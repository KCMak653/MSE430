{
 "cells": [
  {
   "cell_type": "markdown",
   "metadata": {},
   "source": [
    "## Tunneling\n",
    "\n",
    "K. Makulowich September 7, 2020 University of Toronto For technical issues: k.makulowich@mail.utoronto.ca\n",
    "\n",
    "The previous module explored what happens when a particle is trapped in an infinite potential well. Now we will be looking at a particles that encounters a finite potential barrier. In quantum mechanics, a particle can tunnel through a finite potential barrier when its total energy is less than the barrier height, something which is forbidden in classical mechanics. \n",
    "\n",
    "In classical mechanics, a common analogy for describing a particle surmounting a potential barrier is to compare it to rolling a ball over a hill. The hill is the potential barrier - the higher the hill, the higher the barrier. To overcome the hill, the ball must have sufficient kinetic energy, if it does not, it cannot get over the hill. \n",
    "\n",
    "In quantum mechanics, tunneling can occur. This would be as if the ball had a very small probability of getting over the hill - even if it didn't have sufficient kinetic energy. \n",
    "\n",
    "This is a consequence of the Heisenburg uncertainty principle which asserts that both momentum and position of a particle can not be exactly known. The probability of the particle tunneling through a finite potential barrier is nonzero, and thus is reflected by the wavefunction splitting in two - one component crosses the potential barrier, while the other is reflected by the barrier. \n",
    "\n",
    "![table](L1images/tun.PNG)\n",
    "\n",
    "Recall that the wavefunction, $\\psi$ multiplied by its conjugate, $\\psi^*$ is equal to the probability of the particle being found at that position. Anywhere the wavefunction, $\\psi$ is nonzero - there is a nonzero probability that the particle can be found there. \n",
    "\n"
   ]
  },
  {
   "cell_type": "markdown",
   "metadata": {},
   "source": [
    "In the below animation, you will see a wavefunction as a Gaussian wavepacket with forward momentum impinge on a finite barrier. You are free to set the height and width of the barrier. There are no units for this demonstration, it is for you to see how the wavefunction behaves with higher/lower or wider/narrower barrier. The demonstration shows what happens to the wavepacket in both real space, $(x)$ and momentum space $(k)$.\n",
    "\n",
    "The potential everywhere else is zero and at the outer edges of the graph ($x=-100, 100$) are infinite potential barriers. Upon encountering these barriers, the wavefunction will reflect totally. Below are a few questions you could use the animation to explore.\n",
    "\n",
    "1. What happens when the barrier height is lower than the mean energy of the wave packet? \n",
    "2. Does increasing the width of the barrier decrease the probability of the particle tunneling through?\n",
    "\n"
   ]
  },
  {
   "cell_type": "code",
   "execution_count": null,
   "metadata": {
    "init_cell": true,
    "scrolled": true
   },
   "outputs": [
    {
     "name": "stdout",
     "output_type": "stream",
     "text": [
      "Loading...\n"
     ]
    }
   ],
   "source": [
    "%matplotlib inline\n",
    "import MSE430Funcs.ETfuncs as et\n",
    "\n",
    "#Input the barrier width and the barrier height (potential value)\n",
    "    #unitless - adjust to examine effect of widening/narrowing, shortening/increasing barrier\n",
    "barrier_width = 1 \n",
    "barrier_height = 1\n",
    "\n",
    "#This will take a few minutes to load\n",
    "anim=et.tunnel(barrier_height, barrier_width)\n",
    "\n",
    "anim"
   ]
  },
  {
   "cell_type": "markdown",
   "metadata": {},
   "source": [
    "A few key observations - As the wavefunction encounters the barrier it splits into two, one traverses the barrier in the +x direction, the other is reflected off the potential barrier and travels in the -x direction. The Gaussian has widened implying that the effect of the barrier is to delocalize the particle - the position has become less defined. Also, it is clear that the amplitude of the wavepacket across the barrier is much lower than that of the reflected component, this informs us that there is a lower probability that the particle tunneled through the barrier.\n",
    "\n",
    "While it is clear that the probability of finding the particle across the barrier is low, if it were to be found there, its energy would be the same as the initial wavepacket. This effect is apparent in the lower graph showing the wavefunction in momentum space. The wavefunction can be found at the same k-value magnitude before and after interacting with the barrier. The only difference being that the sign of the momentum of one of the wavepackets flips for the wavepacket traveling in the $-x$ direction after reflecting off the barrier. Momentum and energy for a free particle are related by: \n",
    "\n",
    "$k = \\frac{\\sqrt{2mE}}{\\hbar}$"
   ]
  },
  {
   "cell_type": "markdown",
   "metadata": {},
   "source": [
    "#### Citation:\n",
    "\n",
    "The code to produce this animation was adapted from the pySchrodinger github repository authored by Jake Vanderplas. For an excellent and thorough tutorial on solving the 1D Schrodinger equation in a numerical fashion visit: [https://jakevdp.github.io/blog/2012/09/05/quantum-python/]"
   ]
  }
 ],
 "metadata": {
  "celltoolbar": "Initialization Cell",
  "kernelspec": {
   "display_name": "Python 3",
   "language": "python",
   "name": "python3"
  },
  "language_info": {
   "codemirror_mode": {
    "name": "ipython",
    "version": 3
   },
   "file_extension": ".py",
   "mimetype": "text/x-python",
   "name": "python",
   "nbconvert_exporter": "python",
   "pygments_lexer": "ipython3",
   "version": "3.7.3"
  },
  "toc": {
   "base_numbering": 1,
   "nav_menu": {},
   "number_sections": true,
   "sideBar": true,
   "skip_h1_title": false,
   "title_cell": "Table of Contents",
   "title_sidebar": "Contents",
   "toc_cell": false,
   "toc_position": {},
   "toc_section_display": true,
   "toc_window_display": true
  }
 },
 "nbformat": 4,
 "nbformat_minor": 2
}
